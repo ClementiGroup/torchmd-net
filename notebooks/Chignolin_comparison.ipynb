{
 "cells": [
  {
   "cell_type": "markdown",
   "metadata": {},
   "source": [
    "## Imports"
   ]
  },
  {
   "cell_type": "code",
   "execution_count": 1,
   "metadata": {},
   "outputs": [
    {
     "data": {
      "application/vnd.jupyter.widget-view+json": {
       "model_id": "c81ad75eee3c4ceca3d23782826a91c4",
       "version_major": 2,
       "version_minor": 0
      },
      "text/plain": []
     },
     "metadata": {},
     "output_type": "display_data"
    }
   ],
   "source": [
    "%matplotlib inline\n",
    "# %matplotlib widget\n",
    "\n",
    "import sys, os\n",
    "import numpy as np\n",
    "import pyemma as pe\n",
    "import pyemma\n",
    "import torch  # pytorch\n",
    "import matplotlib.pyplot as plt\n",
    "from tqdm.notebook import tqdm\n",
    "import mdtraj\n",
    "\n",
    "import yaml\n",
    "from ipywidgets import HBox, VBox\n",
    "import ipywidgets as widgets\n",
    "import nglview\n",
    "from matplotlib.collections import LineCollection"
   ]
  },
  {
   "cell_type": "code",
   "execution_count": 2,
   "metadata": {},
   "outputs": [],
   "source": [
    "sys.path.insert(0,'../')\n",
    "from torchmdnet2.dataset import ChignolinDataset, DataModule\n",
    "from torchmdnet2.models import LNNP, SchNet, MLPModel, CGnet\n",
    "from torchmdnet2.utils import LoadFromFile, save_argparse\n",
    "from torchmdnet2.simulation import Simulation\n",
    "\n",
    "import pytorch_lightning as pl\n",
    "from pytorch_lightning.callbacks import LearningRateMonitor, EarlyStopping\n",
    "from pytorch_lightning.callbacks.model_checkpoint import ModelCheckpoint\n",
    "\n",
    "from pytorch_lightning.plugins import DDPPlugin\n",
    "\n",
    "from torch_geometric.data import DataLoader\n",
    "\n",
    "from torch.nn import Embedding, Sequential, Linear, ModuleList"
   ]
  },
  {
   "cell_type": "code",
   "execution_count": 3,
   "metadata": {},
   "outputs": [],
   "source": [
    "from torchmdnet2.visualizations.interactive_pes import *\n",
    "from torchmdnet2.visualizations.dimered import *"
   ]
  },
  {
   "cell_type": "code",
   "execution_count": 4,
   "metadata": {},
   "outputs": [],
   "source": [
    "device = torch.device('cuda')"
   ]
  },
  {
   "cell_type": "markdown",
   "metadata": {},
   "source": [
    "## Utils"
   ]
  },
  {
   "cell_type": "code",
   "execution_count": 5,
   "metadata": {
    "code_folding": [
     10
    ]
   },
   "outputs": [],
   "source": [
    "def plot_tica(baseline_model, dataset, lag=10, tica=None):\n",
    "    # compute distances all of the beads\n",
    "    baseline_model.cpu()  # moves the tensors onto the cpu\n",
    "    if isinstance(dataset, np.ndarray):  # check if the dataset is an numpy array\n",
    "        n_traj, n_samp, n_beads, _ = dataset.shape\n",
    "        features = []\n",
    "        for i_traj in range(n_traj):\n",
    "            _ = baseline_model.geom_feature(torch.from_numpy(dataset[i_traj]))\n",
    "            feat = baseline_model.geom_feature.distances\n",
    "            features.append(feat)\n",
    "    else:\n",
    "        _ = baseline_model.geom_feature(dataset.data.pos.reshape((-1, baseline_model.n_beads, 3)))\n",
    "        feat = baseline_model.geom_feature.distances\n",
    "\n",
    "        if 'traj_idx' in dataset.data:\n",
    "            traj_ids = dataset.data.traj_idx\n",
    "            n_traj = np.unique(traj_ids).shape[0]\n",
    "            traj_strides = np.cumsum([0]+(np.bincount(traj_ids)).tolist(), dtype=int)\n",
    "\n",
    "            features = []\n",
    "            for i_traj in range(n_traj):\n",
    "                st, nd = traj_strides[i_traj], traj_strides[i_traj+1]\n",
    "                features.append(feat[st:nd].numpy())\n",
    "        else:\n",
    "            features = feat.numpy()\n",
    "            \n",
    "    if tica is None:\n",
    "        tica = pe.coordinates.tica(features, lag=lag, dim=2)\n",
    "        tica_concatenated = np.concatenate(tica.get_output())\n",
    "    else:\n",
    "        Xproj = tica.transform(features)\n",
    "        tica_concatenated = np.concatenate(Xproj)\n",
    "\n",
    "    fig, axes = plt.subplots(1, 3, figsize=(12, 3))\n",
    "    pyemma.plots.plot_feature_histograms(\n",
    "        tica_concatenated, ['IC {}'.format(i + 1) for i in range(tica.dimension())], ax=axes[0])\n",
    "    pyemma.plots.plot_density(*tica_concatenated[:, :2].T, ax=axes[1], cbar=False, logscale=True)\n",
    "    pyemma.plots.plot_free_energy(*tica_concatenated[:, :2].T, ax=axes[2], legacy=False)\n",
    "    for ax in axes.flat[1:]:\n",
    "        ax.set_xlabel('IC 1')\n",
    "        ax.set_ylabel('IC 2')\n",
    "    fig.tight_layout()\n",
    "    return fig, axes, tica"
   ]
  },
  {
   "cell_type": "code",
   "execution_count": 6,
   "metadata": {
    "code_folding": [
     0
    ]
   },
   "outputs": [],
   "source": [
    "def plot_tica2(baseline_model, dataset, tica, rows=1, columns=3, start=0):\n",
    "    # compute distances all of the beads\n",
    "    baseline_model.cpu()  # moves the tensors onto the cpu\n",
    "    \n",
    "    n_traj, n_samp, n_beads, _ = dataset.shape\n",
    "    features = []\n",
    "    for i_traj in range(n_traj):\n",
    "        _ = baseline_model.geom_feature(torch.from_numpy(dataset[i_traj]))\n",
    "        feat = baseline_model.geom_feature.distances\n",
    "        features.append(feat)\n",
    "            \n",
    "    Xproj = tica.transform(features)\n",
    "    tica_concatenated = np.concatenate(Xproj)\n",
    "    \n",
    "    \n",
    "    xxx = np.zeros((len(dataset[:,0,0]), len(dataset[0,:,0])))\n",
    "    yyy = np.zeros((len(dataset[:,0,0]), len(dataset[0,:,0])))\n",
    "    \n",
    "    for i in range(len(dataset[:,0,0])):  # len = number of simulations\n",
    "        for j in range(len(dataset[0,:,0])):  # len = number of timesteps\n",
    "            xxx[i, j] = Xproj[i][j][0]\n",
    "            yyy[i, j] = Xproj[i][j][1]\n",
    "    \n",
    "    fig, axes = plt.subplots(rows, columns, figsize=(12, 10))\n",
    "\n",
    "    counter = 0            \n",
    "        \n",
    "    for ax in axes.flat:\n",
    "        pyemma.plots.plot_density(*tica_concatenated[:, :2].T, ax, cbar=False, logscale=True)\n",
    "        \n",
    "        ax.plot(xxx[start+counter], yyy[start+counter], color=\"white\")\n",
    "        ax.set_title(f\"Trajectory {start+counter}\")\n",
    "        \n",
    "        ax.set_xlabel('IC 1')\n",
    "        ax.set_ylabel('IC 2')\n",
    "        counter += 1\n",
    "    fig.tight_layout()\n",
    "    return fig, axes, tica"
   ]
  },
  {
   "cell_type": "code",
   "execution_count": 7,
   "metadata": {
    "code_folding": [
     3
    ]
   },
   "outputs": [],
   "source": [
    "from torch_geometric.data.data import size_repr\n",
    "\n",
    "from argparse import Namespace\n",
    "class Args(Namespace):\n",
    "    def __init__(self,**kwargs):\n",
    "        for key, item in kwargs.items():\n",
    "            self[key] = item\n",
    "            \n",
    "    def __getitem__(self, key):\n",
    "        r\"\"\"Gets the data of the attribute :obj:`key`.\"\"\"\n",
    "        return getattr(self, key, None)\n",
    "\n",
    "    def __setitem__(self, key, value):\n",
    "        \"\"\"Sets the attribute :obj:`key` to :obj:`value`.\"\"\"\n",
    "        setattr(self, key, value)\n",
    "\n",
    "    @property\n",
    "    def keys(self):\n",
    "        r\"\"\"Returns all names of graph attributes.\"\"\"\n",
    "        keys = [key for key in self.__dict__.keys() if self[key] is not None]\n",
    "        keys = [key for key in keys if key[:2] != '__' and key[-2:] != '__']\n",
    "        return keys\n",
    "\n",
    "    def __len__(self):\n",
    "        r\"\"\"Returns the number of all present attributes.\"\"\"\n",
    "        return len(self.keys)\n",
    "\n",
    "    def __contains__(self, key):\n",
    "        r\"\"\"Returns :obj:`True`, if the attribute :obj:`key` is present in the\n",
    "        data.\"\"\"\n",
    "        return key in self.keys\n",
    "\n",
    "    def __iter__(self):\n",
    "        r\"\"\"Iterates over all present attributes in the data, yielding their\n",
    "        attribute names and content.\"\"\"\n",
    "        for key in sorted(self.keys):\n",
    "            yield key, self[key]\n",
    "\n",
    "    def __call__(self, *keys):\n",
    "        r\"\"\"Iterates over all attributes :obj:`*keys` in the data, yielding\n",
    "        their attribute names and content.\n",
    "        If :obj:`*keys` is not given this method will iterative over all\n",
    "        present attributes.\"\"\"\n",
    "        for key in sorted(self.keys) if not keys else keys:\n",
    "            if key in self:\n",
    "                yield key, self[key]\n",
    "                \n",
    "    def __repr__(self):\n",
    "        cls = str(self.__class__.__name__)\n",
    "        has_dict = any([isinstance(item, dict) for _, item in self])\n",
    "\n",
    "        if not has_dict:\n",
    "            info = [size_repr(key, item) for key, item in self]\n",
    "            return '{}({})'.format(cls, ', '.join(info))\n",
    "        else:\n",
    "            info = [size_repr(key, item, indent=2) for key, item in self]\n",
    "            return '{}(\\n{}\\n)'.format(cls, ',\\n'.join(info))"
   ]
  },
  {
   "cell_type": "code",
   "execution_count": 8,
   "metadata": {},
   "outputs": [],
   "source": [
    "def parameterfinder(location, spectrum, traj):\n",
    "    dic = yaml.safe_load(open(rf'{location}'))\n",
    "    \n",
    "    if spectrum == \"rs\":\n",
    "        max_radial = dic[\"model\"][\"calculator\"][\"init_args\"][\"max_radial\"]\n",
    "        interaction_cutoff = dic[\"model\"][\"calculator\"][\"init_args\"][\"interaction_cutoff\"]\n",
    "        train_stride = dic[\"data\"][\"train_stride\"]\n",
    "        time_steps = len(traj[0,:,0])\n",
    "        simulations = len(traj[:,0,0])\n",
    "        \n",
    "        print(f\"max_radial = {max_radial}, interaction_cutoff = {interaction_cutoff}, train_stride = {train_stride}\")\n",
    "        print(f\"n_simulations = {simulations}, time_steps = {time_steps}\")\n",
    "        \n",
    "    if spectrum == \"ps\":\n",
    "        max_radial = dic[\"model\"][\"calculator\"][\"init_args\"][\"max_radial\"]\n",
    "        max_angular = dic[\"model\"][\"calculator\"][\"init_args\"][\"max_angular\"]\n",
    "        interaction_cutoff = dic[\"model\"][\"calculator\"][\"init_args\"][\"interaction_cutoff\"]\n",
    "        train_stride = dic[\"data\"][\"train_stride\"]\n",
    "        time_steps = len(traj[0,:,0]) * 10\n",
    "        simulations = len(traj[:,0,0])     \n",
    "              \n",
    "        print(f\"max_radial = {max_radial}, max_angular = {max_angular}, interaction_cutoff = {interaction_cutoff}, train_stride = {train_stride}\")\n",
    "        print(f\"n_simulations = {simulations}, time_steps = {time_steps}\")\n",
    "              \n",
    "    return"
   ]
  },
  {
   "cell_type": "markdown",
   "metadata": {},
   "source": [
    "## All atom simulation"
   ]
  },
  {
   "cell_type": "code",
   "execution_count": 9,
   "metadata": {},
   "outputs": [],
   "source": [
    "# this cell has to be executed before the coarse grained tica plots can be made\n",
    "chignolin_dataset = ChignolinDataset('/local_scratch/hoffmae99/bachelor/datasets/chignolin/')\n",
    "baseline_model = chignolin_dataset.get_baseline_model()"
   ]
  },
  {
   "cell_type": "code",
   "execution_count": null,
   "metadata": {},
   "outputs": [],
   "source": [
    "_,_, tica = plot_tica(baseline_model, chignolin_dataset, lag=10)"
   ]
  },
  {
   "cell_type": "markdown",
   "metadata": {
    "heading_collapsed": true
   },
   "source": [
    "## CGSchNet"
   ]
  },
  {
   "cell_type": "code",
   "execution_count": null,
   "metadata": {
    "hidden": true
   },
   "outputs": [],
   "source": [
    "# this trained with the same parameters as in the paper\n",
    "traj_cgschnet = np.load('/local_scratch/hoffmae99/bachelor/chign/test_0/traj.npy')\n",
    "\n",
    "print(f\"n_simulations = {len(traj_cgschnet[:,0,0])}, time_steps = {len(traj_cgschnet[0,:,0])}\")\n",
    "\n",
    "_,_,_ = plot_tica(baseline_model, traj_cgschnet, tica=tica)\n",
    "_,_,_ = plot_tica2(baseline_model, traj_cgschnet, tica=tica, rows=4, columns=5, start=180)"
   ]
  },
  {
   "cell_type": "markdown",
   "metadata": {
    "heading_collapsed": true
   },
   "source": [
    "## Radial Spectrum"
   ]
  },
  {
   "cell_type": "code",
   "execution_count": null,
   "metadata": {
    "hidden": true
   },
   "outputs": [],
   "source": [
    "traj_rs = np.load('/local_scratch/hoffmae99/bachelor/chign/radial/test_0/traj.npy')  # only 201 simulations, not 1001\n",
    "# traj_rs = traj_rs[:, :1000]\n",
    "\n",
    "parameterfinder(\"/local_scratch/hoffmae99/bachelor/chign/radial/test_0/config.yaml\", \"rs\", traj_rs)\n",
    "\n",
    "# _,_,_ = plot_tica(baseline_model, traj_rs, tica=tica)\n",
    "# _,_,_ = plot_tica2(baseline_model, traj_rs, tica=tica, rows=4, columns=5, start=180)"
   ]
  },
  {
   "cell_type": "markdown",
   "metadata": {},
   "source": [
    "## Power Spectrum"
   ]
  },
  {
   "cell_type": "markdown",
   "metadata": {
    "heading_collapsed": true
   },
   "source": [
    "### max_radial: 10 max_angular: 0 interaction_cutoff: 15.0"
   ]
  },
  {
   "cell_type": "code",
   "execution_count": null,
   "metadata": {
    "hidden": true
   },
   "outputs": [],
   "source": [
    "traj_ps5 = np.load('/local_scratch/hoffmae99/bachelor/chign/test_5/traj.npy')\n",
    "traj_ps5 = traj_ps5[:, :1500]\n",
    "\n",
    "parameterfinder(\"/local_scratch/hoffmae99/bachelor/chign/test_5/config.yaml\", \"ps\", traj_ps5)\n",
    "\n",
    "_,_,_ = plot_tica(baseline_model, traj_ps5, tica=tica)\n",
    "_,_,_ = plot_tica2(baseline_model, traj_ps5, tica=tica, rows=4, columns=5, start=180)"
   ]
  },
  {
   "cell_type": "markdown",
   "metadata": {},
   "source": [
    "### max_radial: 10 max_angular: 3 interaction_cutoff: 15.0"
   ]
  },
  {
   "cell_type": "code",
   "execution_count": 10,
   "metadata": {
    "scrolled": false
   },
   "outputs": [
    {
     "name": "stdout",
     "output_type": "stream",
     "text": [
      "max_radial = 10, max_angular = 3, interaction_cutoff = 15.0, train_stride = 1\n",
      "n_simulations = 1001, time_steps = 10000\n"
     ]
    }
   ],
   "source": [
    "traj_ps4 = np.load('/local_scratch/hoffmae99/bachelor/chign/test_4/traj.npy')\n",
    "\n",
    "parameterfinder(\"/local_scratch/hoffmae99/bachelor/chign/test_4/config.yaml\", \"ps\", traj_ps4)\n",
    "\n",
    "# _,_,_ = plot_tica(baseline_model, traj_ps4, tica=tica)\n",
    "# _,_,_ = plot_tica2(baseline_model, traj_ps4, tica=tica, rows=4, columns=5, start=330)"
   ]
  },
  {
   "cell_type": "code",
   "execution_count": 12,
   "metadata": {},
   "outputs": [],
   "source": [
    "features = compute_internal_coordinate_features(baseline_model, traj_ps4)"
   ]
  },
  {
   "cell_type": "code",
   "execution_count": 25,
   "metadata": {},
   "outputs": [
    {
     "ename": "AttributeError",
     "evalue": "'ChignolinDataset' object has no attribute 'mdtraj'",
     "output_type": "error",
     "traceback": [
      "\u001b[0;31m---------------------------------------------------------------------------\u001b[0m",
      "\u001b[0;31mAttributeError\u001b[0m                            Traceback (most recent call last)",
      "\u001b[0;32m/tmp/ipykernel_3934438/3907730970.py\u001b[0m in \u001b[0;36m<module>\u001b[0;34m\u001b[0m\n\u001b[0;32m----> 1\u001b[0;31m \u001b[0mtopo\u001b[0m \u001b[0;34m=\u001b[0m \u001b[0mchignolin_dataset\u001b[0m\u001b[0;34m.\u001b[0m\u001b[0mmdtraj\u001b[0m\u001b[0;34m.\u001b[0m\u001b[0mTopology\u001b[0m\u001b[0;34m(\u001b[0m\u001b[0;34m)\u001b[0m\u001b[0;34m\u001b[0m\u001b[0;34m\u001b[0m\u001b[0m\n\u001b[0m\u001b[1;32m      2\u001b[0m \u001b[0mprint\u001b[0m\u001b[0;34m(\u001b[0m\u001b[0mtopo\u001b[0m\u001b[0;34m)\u001b[0m\u001b[0;34m\u001b[0m\u001b[0;34m\u001b[0m\u001b[0m\n",
      "\u001b[0;31mAttributeError\u001b[0m: 'ChignolinDataset' object has no attribute 'mdtraj'"
     ]
    }
   ],
   "source": [
    "topo = chignolin_dataset.mdtraj.Topology()\n",
    "print(topo)"
   ]
  },
  {
   "cell_type": "code",
   "execution_count": 26,
   "metadata": {},
   "outputs": [
    {
     "ename": "ValueError",
     "evalue": "xyz must be shape (Any, 0, 3). You supplied  (1000, 10, 3)",
     "output_type": "error",
     "traceback": [
      "\u001b[0;31m---------------------------------------------------------------------------\u001b[0m",
      "\u001b[0;31mValueError\u001b[0m                                Traceback (most recent call last)",
      "\u001b[0;32m/tmp/ipykernel_3934438/3081974253.py\u001b[0m in \u001b[0;36m<module>\u001b[0;34m\u001b[0m\n\u001b[0;32m----> 1\u001b[0;31m \u001b[0mplot_trajectories_on_pes\u001b[0m\u001b[0;34m(\u001b[0m\u001b[0mtraj_ps4\u001b[0m\u001b[0;34m,\u001b[0m \u001b[0mfeatures\u001b[0m\u001b[0;34m,\u001b[0m \u001b[0mtopo\u001b[0m\u001b[0;34m)\u001b[0m\u001b[0;34m\u001b[0m\u001b[0;34m\u001b[0m\u001b[0m\n\u001b[0m",
      "\u001b[0;32m~/git/torchmd-net/torchmdnet2/visualizations/interactive_pes.py\u001b[0m in \u001b[0;36mplot_trajectories_on_pes\u001b[0;34m(traj, dimred_features, topology, start_index)\u001b[0m\n\u001b[1;32m    119\u001b[0m     \u001b[0mn_traj\u001b[0m \u001b[0;34m=\u001b[0m \u001b[0mtraj\u001b[0m\u001b[0;34m.\u001b[0m\u001b[0mshape\u001b[0m\u001b[0;34m[\u001b[0m\u001b[0;36m0\u001b[0m\u001b[0;34m]\u001b[0m\u001b[0;34m\u001b[0m\u001b[0;34m\u001b[0m\u001b[0m\n\u001b[1;32m    120\u001b[0m     \u001b[0;31m# /10 to convert positions from ang to nano\u001b[0m\u001b[0;34m\u001b[0m\u001b[0;34m\u001b[0m\u001b[0;34m\u001b[0m\u001b[0m\n\u001b[0;32m--> 121\u001b[0;31m     \u001b[0msim_traj\u001b[0m \u001b[0;34m=\u001b[0m \u001b[0mmdtraj\u001b[0m\u001b[0;34m.\u001b[0m\u001b[0mTrajectory\u001b[0m\u001b[0;34m(\u001b[0m\u001b[0mtraj\u001b[0m\u001b[0;34m[\u001b[0m\u001b[0midx\u001b[0m\u001b[0;34m]\u001b[0m\u001b[0;34m/\u001b[0m\u001b[0;36m10\u001b[0m\u001b[0;34m,\u001b[0m \u001b[0mtopology\u001b[0m\u001b[0;34m)\u001b[0m\u001b[0;34m\u001b[0m\u001b[0;34m\u001b[0m\u001b[0m\n\u001b[0m\u001b[1;32m    122\u001b[0m     \u001b[0mtica_concatenated\u001b[0m \u001b[0;34m=\u001b[0m \u001b[0mnp\u001b[0m\u001b[0;34m.\u001b[0m\u001b[0mconcatenate\u001b[0m\u001b[0;34m(\u001b[0m\u001b[0mdimred_features\u001b[0m\u001b[0;34m)\u001b[0m\u001b[0;34m\u001b[0m\u001b[0;34m\u001b[0m\u001b[0m\n\u001b[1;32m    123\u001b[0m     \u001b[0moutput\u001b[0m \u001b[0;34m=\u001b[0m \u001b[0mwidgets\u001b[0m\u001b[0;34m.\u001b[0m\u001b[0mOutput\u001b[0m\u001b[0;34m(\u001b[0m\u001b[0;34m)\u001b[0m\u001b[0;34m\u001b[0m\u001b[0;34m\u001b[0m\u001b[0m\n",
      "\u001b[0;32m~/miniconda3/lib/python3.8/site-packages/mdtraj/core/trajectory.py\u001b[0m in \u001b[0;36m__init__\u001b[0;34m(self, xyz, topology, time, unitcell_lengths, unitcell_angles)\u001b[0m\n\u001b[1;32m   1167\u001b[0m         \u001b[0;31m# the xyz, we can check that it lines up (e.g. n_atoms), with the topology\u001b[0m\u001b[0;34m\u001b[0m\u001b[0;34m\u001b[0m\u001b[0;34m\u001b[0m\u001b[0m\n\u001b[1;32m   1168\u001b[0m         \u001b[0mself\u001b[0m\u001b[0;34m.\u001b[0m\u001b[0mtopology\u001b[0m \u001b[0;34m=\u001b[0m \u001b[0mtopology\u001b[0m\u001b[0;34m\u001b[0m\u001b[0;34m\u001b[0m\u001b[0m\n\u001b[0;32m-> 1169\u001b[0;31m         \u001b[0mself\u001b[0m\u001b[0;34m.\u001b[0m\u001b[0mxyz\u001b[0m \u001b[0;34m=\u001b[0m \u001b[0mxyz\u001b[0m\u001b[0;34m\u001b[0m\u001b[0;34m\u001b[0m\u001b[0m\n\u001b[0m\u001b[1;32m   1170\u001b[0m \u001b[0;34m\u001b[0m\u001b[0m\n\u001b[1;32m   1171\u001b[0m         \u001b[0;31m# _rmsd_traces are the inner product of each centered conformation,\u001b[0m\u001b[0;34m\u001b[0m\u001b[0;34m\u001b[0m\u001b[0;34m\u001b[0m\u001b[0m\n",
      "\u001b[0;32m~/miniconda3/lib/python3.8/site-packages/mdtraj/core/trajectory.py\u001b[0m in \u001b[0;36mxyz\u001b[0;34m(self, value)\u001b[0m\n\u001b[1;32m    880\u001b[0m             \u001b[0mshape\u001b[0m \u001b[0;34m=\u001b[0m \u001b[0;34m(\u001b[0m\u001b[0;32mNone\u001b[0m\u001b[0;34m,\u001b[0m \u001b[0;32mNone\u001b[0m\u001b[0;34m,\u001b[0m \u001b[0;36m3\u001b[0m\u001b[0;34m)\u001b[0m\u001b[0;34m\u001b[0m\u001b[0;34m\u001b[0m\u001b[0m\n\u001b[1;32m    881\u001b[0m \u001b[0;34m\u001b[0m\u001b[0m\n\u001b[0;32m--> 882\u001b[0;31m         value = ensure_type(value, np.float32, 3, 'xyz', shape=shape,\n\u001b[0m\u001b[1;32m    883\u001b[0m                             warn_on_cast=False, add_newaxis_on_deficient_ndim=True)\n\u001b[1;32m    884\u001b[0m         \u001b[0mself\u001b[0m\u001b[0;34m.\u001b[0m\u001b[0m_xyz\u001b[0m \u001b[0;34m=\u001b[0m \u001b[0mvalue\u001b[0m\u001b[0;34m\u001b[0m\u001b[0;34m\u001b[0m\u001b[0m\n",
      "\u001b[0;32m~/miniconda3/lib/python3.8/site-packages/mdtraj/utils/validation.py\u001b[0m in \u001b[0;36mensure_type\u001b[0;34m(val, dtype, ndim, name, length, can_be_none, shape, warn_on_cast, add_newaxis_on_deficient_ndim)\u001b[0m\n\u001b[1;32m    146\u001b[0m             \u001b[0;32mif\u001b[0m \u001b[0ma\u001b[0m \u001b[0;34m!=\u001b[0m \u001b[0mb\u001b[0m\u001b[0;34m:\u001b[0m\u001b[0;34m\u001b[0m\u001b[0;34m\u001b[0m\u001b[0m\n\u001b[1;32m    147\u001b[0m                 \u001b[0;31m# check for equality\u001b[0m\u001b[0;34m\u001b[0m\u001b[0;34m\u001b[0m\u001b[0;34m\u001b[0m\u001b[0m\n\u001b[0;32m--> 148\u001b[0;31m                 \u001b[0;32mraise\u001b[0m \u001b[0merror\u001b[0m\u001b[0;34m\u001b[0m\u001b[0;34m\u001b[0m\u001b[0m\n\u001b[0m\u001b[1;32m    149\u001b[0m \u001b[0;34m\u001b[0m\u001b[0m\n\u001b[1;32m    150\u001b[0m     \u001b[0;32mreturn\u001b[0m \u001b[0mval\u001b[0m\u001b[0;34m\u001b[0m\u001b[0;34m\u001b[0m\u001b[0m\n",
      "\u001b[0;31mValueError\u001b[0m: xyz must be shape (Any, 0, 3). You supplied  (1000, 10, 3)"
     ]
    }
   ],
   "source": [
    "plot_trajectories_on_pes(traj_ps4, features, topo)"
   ]
  },
  {
   "cell_type": "code",
   "execution_count": null,
   "metadata": {},
   "outputs": [],
   "source": []
  }
 ],
 "metadata": {
  "interpreter": {
   "hash": "cb11a84a026fe507734d1f488eb70cd0d954053abe3fbdda677f906006b0950e"
  },
  "kernelspec": {
   "display_name": "Python 3 (ipykernel)",
   "language": "python",
   "name": "python3"
  },
  "language_info": {
   "codemirror_mode": {
    "name": "ipython",
    "version": 3
   },
   "file_extension": ".py",
   "mimetype": "text/x-python",
   "name": "python",
   "nbconvert_exporter": "python",
   "pygments_lexer": "ipython3",
   "version": "3.8.5"
  }
 },
 "nbformat": 4,
 "nbformat_minor": 2
}
