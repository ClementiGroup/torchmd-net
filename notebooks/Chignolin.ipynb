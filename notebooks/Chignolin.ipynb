{
 "cells": [
  {
   "cell_type": "code",
   "execution_count": 1,
   "metadata": {},
   "outputs": [],
   "source": [
    "%matplotlib widget\n",
    "import sys, os\n",
    "import numpy as np\n",
    "import pyemma as pe\n",
    "import pyemma\n",
    "import torch\n",
    "import matplotlib.pyplot as plt\n",
    "from tqdm.notebook import tqdm\n",
    "import mdtraj"
   ]
  },
  {
   "cell_type": "code",
   "execution_count": 2,
   "metadata": {},
   "outputs": [
    {
     "data": {
      "application/vnd.jupyter.widget-view+json": {
       "model_id": "7bdbac9ac8ec4557a1db71c52be548f9",
       "version_major": 2,
       "version_minor": 0
      },
      "text/plain": []
     },
     "metadata": {},
     "output_type": "display_data"
    }
   ],
   "source": [
    "sys.path.insert(0,'../')\n",
    "from torchmdnet2.dataset import ChignolinDataset, DataModule\n",
    "from torchmdnet2.models import LNNP, SchNet, CGnet\n",
    "from torchmdnet2.utils import LoadFromFile, save_argparse\n",
    "from torchmdnet2.simulation import Simulation\n",
    "\n",
    "import pytorch_lightning as pl\n",
    "from pytorch_lightning.callbacks import LearningRateMonitor, EarlyStopping\n",
    "from pytorch_lightning.callbacks.model_checkpoint import ModelCheckpoint\n",
    "\n",
    "from pytorch_lightning.plugins import DDPPlugin\n",
    "\n",
    "from torch_geometric.data import DataLoader\n",
    "\n",
    "from torch.nn import Embedding, Sequential, Linear, ModuleList\n",
    "\n",
    "from torchmdnet2.visualizations import (plot_trajectories_on_pes, compute_internal_coordinate_features, \n",
    "                                        project_tica, plot_tica)"
   ]
  },
  {
   "cell_type": "code",
   "execution_count": 3,
   "metadata": {},
   "outputs": [],
   "source": [
    "device = torch.device('cuda')"
   ]
  },
  {
   "cell_type": "markdown",
   "metadata": {},
   "source": [
    "# utils"
   ]
  },
  {
   "cell_type": "code",
   "execution_count": 4,
   "metadata": {
    "code_folding": [
     3
    ]
   },
   "outputs": [],
   "source": [
    "from torch_geometric.data.data import size_repr\n",
    "\n",
    "from argparse import Namespace\n",
    "class Args(Namespace):\n",
    "    def __init__(self,**kwargs):\n",
    "        for key, item in kwargs.items():\n",
    "            self[key] = item\n",
    "            \n",
    "    def __getitem__(self, key):\n",
    "        r\"\"\"Gets the data of the attribute :obj:`key`.\"\"\"\n",
    "        return getattr(self, key, None)\n",
    "\n",
    "    def __setitem__(self, key, value):\n",
    "        \"\"\"Sets the attribute :obj:`key` to :obj:`value`.\"\"\"\n",
    "        setattr(self, key, value)\n",
    "\n",
    "    @property\n",
    "    def keys(self):\n",
    "        r\"\"\"Returns all names of graph attributes.\"\"\"\n",
    "        keys = [key for key in self.__dict__.keys() if self[key] is not None]\n",
    "        keys = [key for key in keys if key[:2] != '__' and key[-2:] != '__']\n",
    "        return keys\n",
    "\n",
    "    def __len__(self):\n",
    "        r\"\"\"Returns the number of all present attributes.\"\"\"\n",
    "        return len(self.keys)\n",
    "\n",
    "    def __contains__(self, key):\n",
    "        r\"\"\"Returns :obj:`True`, if the attribute :obj:`key` is present in the\n",
    "        data.\"\"\"\n",
    "        return key in self.keys\n",
    "\n",
    "    def __iter__(self):\n",
    "        r\"\"\"Iterates over all present attributes in the data, yielding their\n",
    "        attribute names and content.\"\"\"\n",
    "        for key in sorted(self.keys):\n",
    "            yield key, self[key]\n",
    "\n",
    "    def __call__(self, *keys):\n",
    "        r\"\"\"Iterates over all attributes :obj:`*keys` in the data, yielding\n",
    "        their attribute names and content.\n",
    "        If :obj:`*keys` is not given this method will iterative over all\n",
    "        present attributes.\"\"\"\n",
    "        for key in sorted(self.keys) if not keys else keys:\n",
    "            if key in self:\n",
    "                yield key, self[key]\n",
    "                \n",
    "    def __repr__(self):\n",
    "        cls = str(self.__class__.__name__)\n",
    "        has_dict = any([isinstance(item, dict) for _, item in self])\n",
    "\n",
    "        if not has_dict:\n",
    "            info = [size_repr(key, item) for key, item in self]\n",
    "            return '{}({})'.format(cls, ', '.join(info))\n",
    "        else:\n",
    "            info = [size_repr(key, item, indent=2) for key, item in self]\n",
    "            return '{}(\\n{}\\n)'.format(cls, ',\\n'.join(info))\n"
   ]
  },
  {
   "cell_type": "markdown",
   "metadata": {
    "heading_collapsed": true
   },
   "source": [
    "# load and explore the chignolin dataset"
   ]
  },
  {
   "cell_type": "code",
   "execution_count": 6,
   "metadata": {
    "hidden": true,
    "scrolled": true
   },
   "outputs": [],
   "source": [
    "dataset = ChignolinDataset('/local_scratch/musil/datasets/chignolin/')"
   ]
  },
  {
   "cell_type": "code",
   "execution_count": 7,
   "metadata": {
    "hidden": true
   },
   "outputs": [],
   "source": [
    "loader = DataLoader(dataset, batch_size=10, shuffle=True)"
   ]
  },
  {
   "cell_type": "code",
   "execution_count": 8,
   "metadata": {
    "hidden": true
   },
   "outputs": [],
   "source": [
    "# get the prior model used to modify the forces\n",
    "baseline_model = dataset.get_baseline_model()"
   ]
  },
  {
   "cell_type": "markdown",
   "metadata": {
    "heading_collapsed": true,
    "hidden": true
   },
   "source": [
    "## TICA plot of the reference trajectory"
   ]
  },
  {
   "cell_type": "code",
   "execution_count": 9,
   "metadata": {
    "hidden": true
   },
   "outputs": [],
   "source": [
    "# compute distances all of the beads\n",
    "_ = baseline_model.geom_feature(dataset.data.pos.reshape((-1, baseline_model.n_beads, 3)))\n",
    "feat = baseline_model.geom_feature.distances"
   ]
  },
  {
   "cell_type": "code",
   "execution_count": 10,
   "metadata": {
    "hidden": true
   },
   "outputs": [],
   "source": [
    "traj_ids = dataset.data.traj_idx\n",
    "n_traj = np.unique(traj_ids).shape[0]\n",
    "traj_strides = np.cumsum([0]+(np.bincount(traj_ids)).tolist(), dtype=int)\n",
    "\n",
    "features = []\n",
    "for i_traj in range(n_traj):\n",
    "    st, nd = traj_strides[i_traj], traj_strides[i_traj+1]\n",
    "    features.append(feat[st:nd].numpy())\n"
   ]
  },
  {
   "cell_type": "code",
   "execution_count": 11,
   "metadata": {
    "hidden": true
   },
   "outputs": [
    {
     "data": {
      "application/vnd.jupyter.widget-view+json": {
       "model_id": "",
       "version_major": 2,
       "version_minor": 0
      },
      "text/plain": [
       "calculate covariances:   0%|          | 0/3742 [00:00<?, ?it/s]"
      ]
     },
     "metadata": {},
     "output_type": "display_data"
    },
    {
     "data": {
      "application/vnd.jupyter.widget-view+json": {
       "model_id": "",
       "version_major": 2,
       "version_minor": 0
      },
      "text/plain": [
       "getting output of TICA:   0%|          | 0/3744 [00:00<?, ?it/s]"
      ]
     },
     "metadata": {},
     "output_type": "display_data"
    }
   ],
   "source": [
    "tica = pe.coordinates.tica(features, lag=10, dim=2)\n",
    "tica_concatenated = np.concatenate(tica.get_output())"
   ]
  },
  {
   "cell_type": "code",
   "execution_count": 12,
   "metadata": {
    "hidden": true
   },
   "outputs": [
    {
     "data": {
      "image/png": "[encoded data removed]",
      "text/plain": [
       "<Figure size 864x216 with 4 Axes>"
      ]
     },
     "metadata": {
      "needs_background": "light"
     },
     "output_type": "display_data"
    }
   ],
   "source": [
    "fig, axes = plt.subplots(1, 3, figsize=(12, 3))\n",
    "pyemma.plots.plot_feature_histograms(\n",
    "    tica_concatenated, ['IC {}'.format(i + 1) for i in range(tica.dimension())], ax=axes[0])\n",
    "pyemma.plots.plot_density(*tica_concatenated[:, :2].T, ax=axes[1], cbar=False, logscale=True)\n",
    "pyemma.plots.plot_free_energy(*tica_concatenated[:, :2].T, ax=axes[2], legacy=False)\n",
    "for ax in axes.flat[1:]:\n",
    "    ax.set_xlabel('IC 1')\n",
    "    ax.set_ylabel('IC 2')\n",
    "fig.tight_layout()"
   ]
  },
  {
   "cell_type": "markdown",
   "metadata": {
    "heading_collapsed": true
   },
   "source": [
    "# train a CG model"
   ]
  },
  {
   "cell_type": "code",
   "execution_count": 8,
   "metadata": {
    "code_folding": [],
    "hidden": true
   },
   "outputs": [],
   "source": [
    "args = Args(**{\n",
    "    \n",
    "    'batch_size': 2056,\n",
    " \n",
    "    'load_model': None,\n",
    "    'log_dir': '/local_scratch/musil/chign/test_0',\n",
    "    \n",
    "    'dataset_name': 'chignolin',\n",
    "    'dataset_root': dataset.root,\n",
    "    'dataset_stride' : 1,\n",
    "    'target_name': 'forces',\n",
    "    \n",
    "    'derivative': True,\n",
    "    'distributed_backend': 'ddp_spawn',\n",
    "    'num_nodes': 1,\n",
    "    'early_stopping_patience': 100,\n",
    "    'inference_batch_size': 1024,\n",
    "    'label': None,\n",
    "    \n",
    "    'activation': 'tanh',\n",
    "    'embedding_dimension': 128,\n",
    "    'cutoff_lower': 0.0,\n",
    "    'cutoff_upper': 30.0,\n",
    "    'num_filters': 128,\n",
    "    'num_interactions': 2,\n",
    "    'num_rbf': 300,\n",
    "    'trainable_rbf': False,\n",
    "    'rbf_type': 'gauss',\n",
    "    'neighbor_embedding': True,\n",
    "    'cfconv_aggr': 'mean',\n",
    "    'n_layers' : 1,\n",
    "    'reduction_factor' : 1,\n",
    "  \n",
    "    'lr': 1e-4,\n",
    "    'lr_factor': 0.999,\n",
    "    'lr_min': 1e-7,\n",
    "    'lr_patience': 10,\n",
    "    'lr_warmup_steps': 0,\n",
    "    \n",
    "    'ngpus': -1,\n",
    "    'num_epochs': 50,\n",
    "    'num_workers': 2,\n",
    "    'save_interval': 10,\n",
    "    'seed': 18574,\n",
    "    'test_interval': 1,\n",
    "    'test_ratio': 0.1,\n",
    "    'val_ratio': 0.1,\n",
    "    'weight_decay': 0.0,\n",
    "    'precision': 32,\n",
    "    \n",
    "    'data' : None,\n",
    "    'coords' : None,\n",
    "    'forces' : None,\n",
    "    'embed' : None,\n",
    "    'splits' : None,\n",
    "})"
   ]
  },
  {
   "cell_type": "code",
   "execution_count": 9,
   "metadata": {
    "hidden": true
   },
   "outputs": [],
   "source": [
    "dm = DataModule(args.dataset_name, args.dataset_root, args.log_dir, args.val_ratio, args.test_ratio, \n",
    "           args.splits, args.batch_size, args.inference_batch_size, args.num_workers)"
   ]
  },
  {
   "cell_type": "code",
   "execution_count": 10,
   "metadata": {
    "hidden": true
   },
   "outputs": [],
   "source": [
    "model = SchNet(\n",
    "    hidden_channels=args.embedding_dimension,\n",
    "    num_filters=args.num_filters,\n",
    "    num_interactions=args.num_interactions,\n",
    "    num_rbf=args.num_rbf,\n",
    "    rbf_type=args.rbf_type,\n",
    "    trainable_rbf=args.trainable_rbf,\n",
    "    activation=args.activation,\n",
    "    neighbor_embedding=args.neighbor_embedding,\n",
    "    cutoff_lower=args.cutoff_lower,\n",
    "    cutoff_upper=args.cutoff_upper,\n",
    "    derivative=args.derivative,\n",
    "    cfconv_aggr=args.cfconv_aggr,\n",
    ")"
   ]
  },
  {
   "cell_type": "code",
   "execution_count": 11,
   "metadata": {
    "code_folding": [
     0
    ],
    "hidden": true,
    "scrolled": true
   },
   "outputs": [
    {
     "name": "stderr",
     "output_type": "stream",
     "text": [
      "Global seed set to 18574\n",
      "/home/musil/miniconda/envs/cg39/lib/python3.9/site-packages/pytorch_lightning/callbacks/model_checkpoint.py:427: UserWarning: Checkpoint directory /local_scratch/musil/chign/test_0 exists and is not empty.\n",
      "  rank_zero_warn(f\"Checkpoint directory {dirpath} exists and is not empty.\")\n",
      "GPU available: True, used: True\n",
      "TPU available: False, using: 0 TPU cores\n",
      "IPU available: False, using: 0 IPUs\n"
     ]
    }
   ],
   "source": [
    "pl.seed_everything(args.seed)\n",
    "\n",
    "\n",
    "checkpoint_callback = ModelCheckpoint(\n",
    "    dirpath=args.log_dir,\n",
    "    monitor='validation_loss',\n",
    "    save_top_k=10, # -1 to save all\n",
    "    every_n_epochs=args.save_interval,\n",
    "    filename=\"{epoch}-{val_loss:.4f}-{test_loss:.4f}\"\n",
    ")\n",
    "early_stopping = EarlyStopping('validation_loss', patience=args.early_stopping_patience)\n",
    "\n",
    "tb_logger = pl.loggers.TensorBoardLogger(args.log_dir, name='tensorbord', version='')\n",
    "csv_logger = pl.loggers.CSVLogger(args.log_dir, name='', version='')\n",
    "\n",
    "\n",
    "trainer = pl.Trainer(\n",
    "    max_epochs=args.num_epochs,\n",
    "    gpus=args.ngpus,\n",
    "    num_nodes=args.num_nodes,\n",
    "    distributed_backend=args.distributed_backend,\n",
    "    default_root_dir=args.log_dir,\n",
    "    auto_lr_find=False,\n",
    "    resume_from_checkpoint=args.load_model,\n",
    "    checkpoint_callback=True,\n",
    "    callbacks=[early_stopping, checkpoint_callback],\n",
    "    logger=[tb_logger, csv_logger],\n",
    "    log_every_n_steps=1,\n",
    "    reload_dataloaders_every_epoch=False,\n",
    "    precision=args.precision,\n",
    ")"
   ]
  },
  {
   "cell_type": "code",
   "execution_count": null,
   "metadata": {
    "hidden": true
   },
   "outputs": [
    {
     "name": "stderr",
     "output_type": "stream",
     "text": [
      "LOCAL_RANK: 0 - CUDA_VISIBLE_DEVICES: [0,1,2,3]\n",
      "/home/musil/miniconda/envs/cg39/lib/python3.9/site-packages/pytorch_lightning/loggers/csv_logs.py:58: UserWarning: Experiment logs directory /local_scratch/musil/chign/test_0/ exists and is not empty. Previous log files in this directory will be deleted when the new ones are saved!\n",
      "  rank_zero_warn(\n"
     ]
    }
   ],
   "source": [
    "trainer.fit(model, dm)"
   ]
  },
  {
   "cell_type": "code",
   "execution_count": 51,
   "metadata": {
    "hidden": true
   },
   "outputs": [],
   "source": [
    "torch.save(model, os.path.join(args.log_dir, 'last_model.pt'))"
   ]
  },
  {
   "cell_type": "code",
   "execution_count": 19,
   "metadata": {
    "hidden": true
   },
   "outputs": [
    {
     "data": {
      "text/plain": [
       "''"
      ]
     },
     "execution_count": 19,
     "metadata": {},
     "output_type": "execute_result"
    }
   ],
   "source": [
    "checkpoint_callback.best_model_path"
   ]
  },
  {
   "cell_type": "code",
   "execution_count": 52,
   "metadata": {
    "hidden": true
   },
   "outputs": [
    {
     "data": {
      "text/plain": [
       "0.0001"
      ]
     },
     "execution_count": 52,
     "metadata": {},
     "output_type": "execute_result"
    }
   ],
   "source": [
    "aa = trainer.optimizers[0]\n",
    "aa.param_groups[0]['lr']"
   ]
  },
  {
   "cell_type": "code",
   "execution_count": 12,
   "metadata": {
    "hidden": true
   },
   "outputs": [
    {
     "data": {
      "text/plain": [
       "<torch.optim.lr_scheduler.ReduceLROnPlateau at 0x7ff5184d0910>"
      ]
     },
     "execution_count": 12,
     "metadata": {},
     "output_type": "execute_result"
    }
   ],
   "source": [
    "aa = trainer.lr_schedulers[0]['scheduler']\n",
    "aa."
   ]
  },
  {
   "cell_type": "code",
   "execution_count": 53,
   "metadata": {
    "hidden": true,
    "scrolled": true
   },
   "outputs": [
    {
     "name": "stderr",
     "output_type": "stream",
     "text": [
      "/home/musil/miniconda/envs/cg39/lib/python3.9/site-packages/pytorch_lightning/core/datamodule.py:435: LightningDeprecationWarning: DataModule.prepare_data has already been called, so it will not be called again. In v1.6 this behavior will change to always call DataModule.prepare_data.\n",
      "  rank_zero_deprecation(\n",
      "LOCAL_RANK: 0 - CUDA_VISIBLE_DEVICES: [0,1,2,3]\n"
     ]
    },
    {
     "ename": "ProcessRaisedException",
     "evalue": "\n\n-- Process 0 terminated with the following error:\nTraceback (most recent call last):\n  File \"/home/musil/miniconda/envs/cg39/lib/python3.9/site-packages/torch/multiprocessing/spawn.py\", line 59, in _wrap\n    fn(i, *args)\n  File \"/home/musil/miniconda/envs/cg39/lib/python3.9/site-packages/pytorch_lightning/plugins/training_type/ddp_spawn.py\", line 184, in new_process\n    self.init_ddp_connection(self.global_rank, self.world_size)\n  File \"/home/musil/miniconda/envs/cg39/lib/python3.9/site-packages/pytorch_lightning/plugins/training_type/ddp_spawn.py\", line 266, in init_ddp_connection\n    torch.distributed.init_process_group(\n  File \"/home/musil/miniconda/envs/cg39/lib/python3.9/site-packages/torch/distributed/distributed_c10d.py\", line 520, in init_process_group\n    store, rank, world_size = next(rendezvous_iterator)\n  File \"/home/musil/miniconda/envs/cg39/lib/python3.9/site-packages/torch/distributed/rendezvous.py\", line 199, in _env_rendezvous_handler\n    store = TCPStore(master_addr, master_port, world_size, start_daemon, timeout)\nRuntimeError: Address already in use\n",
     "output_type": "error",
     "traceback": [
      "\u001b[0;31m---------------------------------------------------------------------------\u001b[0m",
      "\u001b[0;31mProcessRaisedException\u001b[0m                    Traceback (most recent call last)",
      "\u001b[0;32m<ipython-input-53-d39bc7f70020>\u001b[0m in \u001b[0;36m<module>\u001b[0;34m\u001b[0m\n\u001b[1;32m      1\u001b[0m \u001b[0;31m# run test set after completing the fit\u001b[0m\u001b[0;34m\u001b[0m\u001b[0;34m\u001b[0m\u001b[0;34m\u001b[0m\u001b[0m\n\u001b[0;32m----> 2\u001b[0;31m \u001b[0mtrainer\u001b[0m\u001b[0;34m.\u001b[0m\u001b[0mtest\u001b[0m\u001b[0;34m(\u001b[0m\u001b[0mmodel\u001b[0m\u001b[0;34m)\u001b[0m\u001b[0;34m\u001b[0m\u001b[0;34m\u001b[0m\u001b[0m\n\u001b[0m",
      "\u001b[0;32m~/miniconda/envs/cg39/lib/python3.9/site-packages/pytorch_lightning/trainer/trainer.py\u001b[0m in \u001b[0;36mtest\u001b[0;34m(self, model, dataloaders, ckpt_path, verbose, datamodule, test_dataloaders)\u001b[0m\n\u001b[1;32m    669\u001b[0m \u001b[0;34m\u001b[0m\u001b[0m\n\u001b[1;32m    670\u001b[0m         \u001b[0;31m# run test\u001b[0m\u001b[0;34m\u001b[0m\u001b[0;34m\u001b[0m\u001b[0;34m\u001b[0m\u001b[0m\n\u001b[0;32m--> 671\u001b[0;31m         \u001b[0mresults\u001b[0m \u001b[0;34m=\u001b[0m \u001b[0mself\u001b[0m\u001b[0;34m.\u001b[0m\u001b[0m_run\u001b[0m\u001b[0;34m(\u001b[0m\u001b[0mmodel\u001b[0m\u001b[0;34m)\u001b[0m\u001b[0;34m\u001b[0m\u001b[0;34m\u001b[0m\u001b[0m\n\u001b[0m\u001b[1;32m    672\u001b[0m \u001b[0;34m\u001b[0m\u001b[0m\n\u001b[1;32m    673\u001b[0m         \u001b[0;32massert\u001b[0m \u001b[0mself\u001b[0m\u001b[0;34m.\u001b[0m\u001b[0mstate\u001b[0m\u001b[0;34m.\u001b[0m\u001b[0mstopped\u001b[0m\u001b[0;34m\u001b[0m\u001b[0;34m\u001b[0m\u001b[0m\n",
      "\u001b[0;32m~/miniconda/envs/cg39/lib/python3.9/site-packages/pytorch_lightning/trainer/trainer.py\u001b[0m in \u001b[0;36m_run\u001b[0;34m(self, model)\u001b[0m\n\u001b[1;32m    881\u001b[0m \u001b[0;34m\u001b[0m\u001b[0m\n\u001b[1;32m    882\u001b[0m         \u001b[0;31m# dispatch `start_training` or `start_evaluating` or `start_predicting`\u001b[0m\u001b[0;34m\u001b[0m\u001b[0;34m\u001b[0m\u001b[0;34m\u001b[0m\u001b[0m\n\u001b[0;32m--> 883\u001b[0;31m         \u001b[0mself\u001b[0m\u001b[0;34m.\u001b[0m\u001b[0m_dispatch\u001b[0m\u001b[0;34m(\u001b[0m\u001b[0;34m)\u001b[0m\u001b[0;34m\u001b[0m\u001b[0;34m\u001b[0m\u001b[0m\n\u001b[0m\u001b[1;32m    884\u001b[0m \u001b[0;34m\u001b[0m\u001b[0m\n\u001b[1;32m    885\u001b[0m         \u001b[0;31m# plugin will finalized fitting (e.g. ddp_spawn will load trained model)\u001b[0m\u001b[0;34m\u001b[0m\u001b[0;34m\u001b[0m\u001b[0;34m\u001b[0m\u001b[0m\n",
      "\u001b[0;32m~/miniconda/envs/cg39/lib/python3.9/site-packages/pytorch_lightning/trainer/trainer.py\u001b[0m in \u001b[0;36m_dispatch\u001b[0;34m(self)\u001b[0m\n\u001b[1;32m    944\u001b[0m     \u001b[0;32mdef\u001b[0m \u001b[0m_dispatch\u001b[0m\u001b[0;34m(\u001b[0m\u001b[0mself\u001b[0m\u001b[0;34m)\u001b[0m\u001b[0;34m:\u001b[0m\u001b[0;34m\u001b[0m\u001b[0;34m\u001b[0m\u001b[0m\n\u001b[1;32m    945\u001b[0m         \u001b[0;32mif\u001b[0m \u001b[0mself\u001b[0m\u001b[0;34m.\u001b[0m\u001b[0mevaluating\u001b[0m\u001b[0;34m:\u001b[0m\u001b[0;34m\u001b[0m\u001b[0;34m\u001b[0m\u001b[0m\n\u001b[0;32m--> 946\u001b[0;31m             \u001b[0mself\u001b[0m\u001b[0;34m.\u001b[0m\u001b[0maccelerator\u001b[0m\u001b[0;34m.\u001b[0m\u001b[0mstart_evaluating\u001b[0m\u001b[0;34m(\u001b[0m\u001b[0mself\u001b[0m\u001b[0;34m)\u001b[0m\u001b[0;34m\u001b[0m\u001b[0;34m\u001b[0m\u001b[0m\n\u001b[0m\u001b[1;32m    947\u001b[0m         \u001b[0;32melif\u001b[0m \u001b[0mself\u001b[0m\u001b[0;34m.\u001b[0m\u001b[0mpredicting\u001b[0m\u001b[0;34m:\u001b[0m\u001b[0;34m\u001b[0m\u001b[0;34m\u001b[0m\u001b[0m\n\u001b[1;32m    948\u001b[0m             \u001b[0mself\u001b[0m\u001b[0;34m.\u001b[0m\u001b[0maccelerator\u001b[0m\u001b[0;34m.\u001b[0m\u001b[0mstart_predicting\u001b[0m\u001b[0;34m(\u001b[0m\u001b[0mself\u001b[0m\u001b[0;34m)\u001b[0m\u001b[0;34m\u001b[0m\u001b[0;34m\u001b[0m\u001b[0m\n",
      "\u001b[0;32m~/miniconda/envs/cg39/lib/python3.9/site-packages/pytorch_lightning/accelerators/accelerator.py\u001b[0m in \u001b[0;36mstart_evaluating\u001b[0;34m(self, trainer)\u001b[0m\n\u001b[1;32m     98\u001b[0m \u001b[0;34m\u001b[0m\u001b[0m\n\u001b[1;32m     99\u001b[0m     \u001b[0;32mdef\u001b[0m \u001b[0mstart_evaluating\u001b[0m\u001b[0;34m(\u001b[0m\u001b[0mself\u001b[0m\u001b[0;34m,\u001b[0m \u001b[0mtrainer\u001b[0m\u001b[0;34m:\u001b[0m \u001b[0;34m'pl.Trainer'\u001b[0m\u001b[0;34m)\u001b[0m \u001b[0;34m->\u001b[0m \u001b[0;32mNone\u001b[0m\u001b[0;34m:\u001b[0m\u001b[0;34m\u001b[0m\u001b[0;34m\u001b[0m\u001b[0m\n\u001b[0;32m--> 100\u001b[0;31m         \u001b[0mself\u001b[0m\u001b[0;34m.\u001b[0m\u001b[0mtraining_type_plugin\u001b[0m\u001b[0;34m.\u001b[0m\u001b[0mstart_evaluating\u001b[0m\u001b[0;34m(\u001b[0m\u001b[0mtrainer\u001b[0m\u001b[0;34m)\u001b[0m\u001b[0;34m\u001b[0m\u001b[0;34m\u001b[0m\u001b[0m\n\u001b[0m\u001b[1;32m    101\u001b[0m \u001b[0;34m\u001b[0m\u001b[0m\n\u001b[1;32m    102\u001b[0m     \u001b[0;32mdef\u001b[0m \u001b[0mstart_predicting\u001b[0m\u001b[0;34m(\u001b[0m\u001b[0mself\u001b[0m\u001b[0;34m,\u001b[0m \u001b[0mtrainer\u001b[0m\u001b[0;34m:\u001b[0m \u001b[0;34m'pl.Trainer'\u001b[0m\u001b[0;34m)\u001b[0m \u001b[0;34m->\u001b[0m \u001b[0;32mNone\u001b[0m\u001b[0;34m:\u001b[0m\u001b[0;34m\u001b[0m\u001b[0;34m\u001b[0m\u001b[0m\n",
      "\u001b[0;32m~/miniconda/envs/cg39/lib/python3.9/site-packages/pytorch_lightning/plugins/training_type/ddp_spawn.py\u001b[0m in \u001b[0;36mstart_evaluating\u001b[0;34m(self, trainer)\u001b[0m\n\u001b[1;32m    164\u001b[0m \u001b[0;34m\u001b[0m\u001b[0m\n\u001b[1;32m    165\u001b[0m     \u001b[0;32mdef\u001b[0m \u001b[0mstart_evaluating\u001b[0m\u001b[0;34m(\u001b[0m\u001b[0mself\u001b[0m\u001b[0;34m,\u001b[0m \u001b[0mtrainer\u001b[0m\u001b[0;34m)\u001b[0m\u001b[0;34m:\u001b[0m\u001b[0;34m\u001b[0m\u001b[0;34m\u001b[0m\u001b[0m\n\u001b[0;32m--> 166\u001b[0;31m         \u001b[0mmp\u001b[0m\u001b[0;34m.\u001b[0m\u001b[0mspawn\u001b[0m\u001b[0;34m(\u001b[0m\u001b[0mself\u001b[0m\u001b[0;34m.\u001b[0m\u001b[0mnew_process\u001b[0m\u001b[0;34m,\u001b[0m \u001b[0;34m**\u001b[0m\u001b[0mself\u001b[0m\u001b[0;34m.\u001b[0m\u001b[0mmp_spawn_kwargs\u001b[0m\u001b[0;34m)\u001b[0m\u001b[0;34m\u001b[0m\u001b[0;34m\u001b[0m\u001b[0m\n\u001b[0m\u001b[1;32m    167\u001b[0m \u001b[0;34m\u001b[0m\u001b[0m\n\u001b[1;32m    168\u001b[0m     \u001b[0;32mdef\u001b[0m \u001b[0mstart_predicting\u001b[0m\u001b[0;34m(\u001b[0m\u001b[0mself\u001b[0m\u001b[0;34m,\u001b[0m \u001b[0mtrainer\u001b[0m\u001b[0;34m)\u001b[0m\u001b[0;34m:\u001b[0m\u001b[0;34m\u001b[0m\u001b[0;34m\u001b[0m\u001b[0m\n",
      "\u001b[0;32m~/miniconda/envs/cg39/lib/python3.9/site-packages/torch/multiprocessing/spawn.py\u001b[0m in \u001b[0;36mspawn\u001b[0;34m(fn, args, nprocs, join, daemon, start_method)\u001b[0m\n\u001b[1;32m    228\u001b[0m                ' torch.multiprocessing.start_processes(...)' % start_method)\n\u001b[1;32m    229\u001b[0m         \u001b[0mwarnings\u001b[0m\u001b[0;34m.\u001b[0m\u001b[0mwarn\u001b[0m\u001b[0;34m(\u001b[0m\u001b[0mmsg\u001b[0m\u001b[0;34m)\u001b[0m\u001b[0;34m\u001b[0m\u001b[0;34m\u001b[0m\u001b[0m\n\u001b[0;32m--> 230\u001b[0;31m     \u001b[0;32mreturn\u001b[0m \u001b[0mstart_processes\u001b[0m\u001b[0;34m(\u001b[0m\u001b[0mfn\u001b[0m\u001b[0;34m,\u001b[0m \u001b[0margs\u001b[0m\u001b[0;34m,\u001b[0m \u001b[0mnprocs\u001b[0m\u001b[0;34m,\u001b[0m \u001b[0mjoin\u001b[0m\u001b[0;34m,\u001b[0m \u001b[0mdaemon\u001b[0m\u001b[0;34m,\u001b[0m \u001b[0mstart_method\u001b[0m\u001b[0;34m=\u001b[0m\u001b[0;34m'spawn'\u001b[0m\u001b[0;34m)\u001b[0m\u001b[0;34m\u001b[0m\u001b[0;34m\u001b[0m\u001b[0m\n\u001b[0m",
      "\u001b[0;32m~/miniconda/envs/cg39/lib/python3.9/site-packages/torch/multiprocessing/spawn.py\u001b[0m in \u001b[0;36mstart_processes\u001b[0;34m(fn, args, nprocs, join, daemon, start_method)\u001b[0m\n\u001b[1;32m    186\u001b[0m \u001b[0;34m\u001b[0m\u001b[0m\n\u001b[1;32m    187\u001b[0m     \u001b[0;31m# Loop on join until it returns True or raises an exception.\u001b[0m\u001b[0;34m\u001b[0m\u001b[0;34m\u001b[0m\u001b[0;34m\u001b[0m\u001b[0m\n\u001b[0;32m--> 188\u001b[0;31m     \u001b[0;32mwhile\u001b[0m \u001b[0;32mnot\u001b[0m \u001b[0mcontext\u001b[0m\u001b[0;34m.\u001b[0m\u001b[0mjoin\u001b[0m\u001b[0;34m(\u001b[0m\u001b[0;34m)\u001b[0m\u001b[0;34m:\u001b[0m\u001b[0;34m\u001b[0m\u001b[0;34m\u001b[0m\u001b[0m\n\u001b[0m\u001b[1;32m    189\u001b[0m         \u001b[0;32mpass\u001b[0m\u001b[0;34m\u001b[0m\u001b[0;34m\u001b[0m\u001b[0m\n\u001b[1;32m    190\u001b[0m \u001b[0;34m\u001b[0m\u001b[0m\n",
      "\u001b[0;32m~/miniconda/envs/cg39/lib/python3.9/site-packages/torch/multiprocessing/spawn.py\u001b[0m in \u001b[0;36mjoin\u001b[0;34m(self, timeout)\u001b[0m\n\u001b[1;32m    148\u001b[0m         \u001b[0mmsg\u001b[0m \u001b[0;34m=\u001b[0m \u001b[0;34m\"\\n\\n-- Process %d terminated with the following error:\\n\"\u001b[0m \u001b[0;34m%\u001b[0m \u001b[0merror_index\u001b[0m\u001b[0;34m\u001b[0m\u001b[0;34m\u001b[0m\u001b[0m\n\u001b[1;32m    149\u001b[0m         \u001b[0mmsg\u001b[0m \u001b[0;34m+=\u001b[0m \u001b[0moriginal_trace\u001b[0m\u001b[0;34m\u001b[0m\u001b[0;34m\u001b[0m\u001b[0m\n\u001b[0;32m--> 150\u001b[0;31m         \u001b[0;32mraise\u001b[0m \u001b[0mProcessRaisedException\u001b[0m\u001b[0;34m(\u001b[0m\u001b[0mmsg\u001b[0m\u001b[0;34m,\u001b[0m \u001b[0merror_index\u001b[0m\u001b[0;34m,\u001b[0m \u001b[0mfailed_process\u001b[0m\u001b[0;34m.\u001b[0m\u001b[0mpid\u001b[0m\u001b[0;34m)\u001b[0m\u001b[0;34m\u001b[0m\u001b[0;34m\u001b[0m\u001b[0m\n\u001b[0m\u001b[1;32m    151\u001b[0m \u001b[0;34m\u001b[0m\u001b[0m\n\u001b[1;32m    152\u001b[0m \u001b[0;34m\u001b[0m\u001b[0m\n",
      "\u001b[0;31mProcessRaisedException\u001b[0m: \n\n-- Process 0 terminated with the following error:\nTraceback (most recent call last):\n  File \"/home/musil/miniconda/envs/cg39/lib/python3.9/site-packages/torch/multiprocessing/spawn.py\", line 59, in _wrap\n    fn(i, *args)\n  File \"/home/musil/miniconda/envs/cg39/lib/python3.9/site-packages/pytorch_lightning/plugins/training_type/ddp_spawn.py\", line 184, in new_process\n    self.init_ddp_connection(self.global_rank, self.world_size)\n  File \"/home/musil/miniconda/envs/cg39/lib/python3.9/site-packages/pytorch_lightning/plugins/training_type/ddp_spawn.py\", line 266, in init_ddp_connection\n    torch.distributed.init_process_group(\n  File \"/home/musil/miniconda/envs/cg39/lib/python3.9/site-packages/torch/distributed/distributed_c10d.py\", line 520, in init_process_group\n    store, rank, world_size = next(rendezvous_iterator)\n  File \"/home/musil/miniconda/envs/cg39/lib/python3.9/site-packages/torch/distributed/rendezvous.py\", line 199, in _env_rendezvous_handler\n    store = TCPStore(master_addr, master_port, world_size, start_daemon, timeout)\nRuntimeError: Address already in use\n"
     ]
    }
   ],
   "source": [
    "# run test set after completing the fit\n",
    "trainer.test(model)"
   ]
  },
  {
   "cell_type": "markdown",
   "metadata": {},
   "source": [
    "# run a simulation"
   ]
  },
  {
   "cell_type": "code",
   "execution_count": 5,
   "metadata": {},
   "outputs": [],
   "source": [
    "# model = LNNP.load_from_checkpoint(\n",
    "#     '/local/git/torchmd-net2/notebooks/chign_run/epoch=29-val_loss=740.0255-test_loss=0.0000.ckpt'\n",
    "# )\n",
    "chignolin_dataset = ChignolinDataset('/local_scratch/musil/datasets/chignolin/')"
   ]
  },
  {
   "cell_type": "code",
   "execution_count": 6,
   "metadata": {},
   "outputs": [],
   "source": [
    "n_sims = 1000\n",
    "n_timesteps = 10000\n",
    "save_interval = 10"
   ]
  },
  {
   "cell_type": "code",
   "execution_count": 7,
   "metadata": {},
   "outputs": [],
   "source": [
    "baseline_model = chignolin_dataset.get_baseline_model(n_beads=10)"
   ]
  },
  {
   "cell_type": "code",
   "execution_count": 61,
   "metadata": {},
   "outputs": [
    {
     "data": {
      "text/plain": [
       "CGnet(\n",
       "  (model): SchNet(hidden_channels=128, num_filters=128, num_interactions=2, num_rbf=300, rbf_type=gauss, activation=tanh, cutoff_lower=0.0, cutoff_upper=30.0, derivative=True)\n",
       "  (baseline): BaselineModel(\n",
       "    (geom_feature): GeometryFeature()\n",
       "    (priors): Sequential(\n",
       "      (0): HarmonicLayer()\n",
       "      (1): HarmonicLayer()\n",
       "      (2): RepulsionLayer()\n",
       "    )\n",
       "  )\n",
       ")"
      ]
     },
     "execution_count": 61,
     "metadata": {},
     "output_type": "execute_result"
    }
   ],
   "source": [
    "ids = np.arange(0, len(chignolin_dataset),len(chignolin_dataset)//n_sims).tolist()\n",
    "init = chignolin_dataset[ids]\n",
    "initial_coords = torch.cat([init[i].pos.reshape((1,-1,3)) for i in range(len(init))], dim=0).to(device=device)\n",
    "initial_coords.requires_grad_()\n",
    "\n",
    "sim_embeddings = torch.cat([init[i].z.reshape((1,-1)) for i in range(len(init))], dim=0).to(device=device)\n",
    "\n",
    "chignolin_net = CGnet(model, baseline_model).eval()\n",
    "chignolin_net.to(device=device)"
   ]
  },
  {
   "cell_type": "code",
   "execution_count": 62,
   "metadata": {
    "collapsed": true
   },
   "outputs": [
    {
     "name": "stdout",
     "output_type": "stream",
     "text": [
      "Generating 1001 simulations of length 10000 saved at 10-step intervals (Wed Jul 21 16:43:18 2021)\n",
      "10/1000 time points saved (Wed Jul 21 16:43:38 2021)\n",
      "20/1000 time points saved (Wed Jul 21 16:43:58 2021)\n",
      "30/1000 time points saved (Wed Jul 21 16:44:17 2021)\n",
      "40/1000 time points saved (Wed Jul 21 16:44:36 2021)\n",
      "50/1000 time points saved (Wed Jul 21 16:44:57 2021)\n",
      "60/1000 time points saved (Wed Jul 21 16:45:18 2021)\n",
      "70/1000 time points saved (Wed Jul 21 16:45:37 2021)\n",
      "80/1000 time points saved (Wed Jul 21 16:45:57 2021)\n",
      "90/1000 time points saved (Wed Jul 21 16:46:16 2021)\n",
      "100/1000 time points saved (Wed Jul 21 16:46:35 2021)\n",
      "110/1000 time points saved (Wed Jul 21 16:46:55 2021)\n",
      "120/1000 time points saved (Wed Jul 21 16:47:16 2021)\n",
      "130/1000 time points saved (Wed Jul 21 16:47:36 2021)\n",
      "140/1000 time points saved (Wed Jul 21 16:47:57 2021)\n",
      "150/1000 time points saved (Wed Jul 21 16:48:18 2021)\n",
      "160/1000 time points saved (Wed Jul 21 16:48:37 2021)\n",
      "170/1000 time points saved (Wed Jul 21 16:48:56 2021)\n",
      "180/1000 time points saved (Wed Jul 21 16:49:16 2021)\n",
      "190/1000 time points saved (Wed Jul 21 16:49:35 2021)\n",
      "200/1000 time points saved (Wed Jul 21 16:49:56 2021)\n",
      "210/1000 time points saved (Wed Jul 21 16:50:17 2021)\n",
      "220/1000 time points saved (Wed Jul 21 16:50:37 2021)\n",
      "230/1000 time points saved (Wed Jul 21 16:50:57 2021)\n",
      "240/1000 time points saved (Wed Jul 21 16:51:16 2021)\n",
      "250/1000 time points saved (Wed Jul 21 16:51:36 2021)\n",
      "260/1000 time points saved (Wed Jul 21 16:51:55 2021)\n",
      "270/1000 time points saved (Wed Jul 21 16:52:14 2021)\n",
      "280/1000 time points saved (Wed Jul 21 16:52:34 2021)\n",
      "290/1000 time points saved (Wed Jul 21 16:52:53 2021)\n",
      "300/1000 time points saved (Wed Jul 21 16:53:13 2021)\n",
      "310/1000 time points saved (Wed Jul 21 16:53:33 2021)\n",
      "320/1000 time points saved (Wed Jul 21 16:53:52 2021)\n",
      "330/1000 time points saved (Wed Jul 21 16:54:12 2021)\n",
      "340/1000 time points saved (Wed Jul 21 16:54:31 2021)\n",
      "350/1000 time points saved (Wed Jul 21 16:54:51 2021)\n",
      "360/1000 time points saved (Wed Jul 21 16:55:11 2021)\n",
      "370/1000 time points saved (Wed Jul 21 16:55:32 2021)\n",
      "380/1000 time points saved (Wed Jul 21 16:55:52 2021)\n",
      "390/1000 time points saved (Wed Jul 21 16:56:11 2021)\n",
      "400/1000 time points saved (Wed Jul 21 16:56:30 2021)\n",
      "410/1000 time points saved (Wed Jul 21 16:56:50 2021)\n",
      "420/1000 time points saved (Wed Jul 21 16:57:09 2021)\n",
      "430/1000 time points saved (Wed Jul 21 16:57:29 2021)\n",
      "440/1000 time points saved (Wed Jul 21 16:57:48 2021)\n",
      "450/1000 time points saved (Wed Jul 21 16:58:08 2021)\n",
      "460/1000 time points saved (Wed Jul 21 16:58:28 2021)\n",
      "470/1000 time points saved (Wed Jul 21 16:58:48 2021)\n",
      "480/1000 time points saved (Wed Jul 21 16:59:08 2021)\n",
      "490/1000 time points saved (Wed Jul 21 16:59:29 2021)\n",
      "500/1000 time points saved (Wed Jul 21 16:59:49 2021)\n",
      "510/1000 time points saved (Wed Jul 21 17:00:08 2021)\n",
      "520/1000 time points saved (Wed Jul 21 17:00:29 2021)\n",
      "530/1000 time points saved (Wed Jul 21 17:00:50 2021)\n",
      "540/1000 time points saved (Wed Jul 21 17:01:09 2021)\n",
      "550/1000 time points saved (Wed Jul 21 17:01:29 2021)\n",
      "560/1000 time points saved (Wed Jul 21 17:01:48 2021)\n",
      "570/1000 time points saved (Wed Jul 21 17:02:08 2021)\n",
      "580/1000 time points saved (Wed Jul 21 17:02:28 2021)\n",
      "590/1000 time points saved (Wed Jul 21 17:02:48 2021)\n",
      "600/1000 time points saved (Wed Jul 21 17:03:07 2021)\n",
      "610/1000 time points saved (Wed Jul 21 17:03:26 2021)\n",
      "620/1000 time points saved (Wed Jul 21 17:03:46 2021)\n",
      "630/1000 time points saved (Wed Jul 21 17:04:07 2021)\n",
      "640/1000 time points saved (Wed Jul 21 17:04:27 2021)\n",
      "650/1000 time points saved (Wed Jul 21 17:04:46 2021)\n",
      "660/1000 time points saved (Wed Jul 21 17:05:06 2021)\n",
      "670/1000 time points saved (Wed Jul 21 17:05:25 2021)\n",
      "680/1000 time points saved (Wed Jul 21 17:05:45 2021)\n",
      "690/1000 time points saved (Wed Jul 21 17:06:05 2021)\n",
      "700/1000 time points saved (Wed Jul 21 17:06:26 2021)\n",
      "710/1000 time points saved (Wed Jul 21 17:06:47 2021)\n",
      "720/1000 time points saved (Wed Jul 21 17:07:07 2021)\n",
      "730/1000 time points saved (Wed Jul 21 17:07:27 2021)\n",
      "740/1000 time points saved (Wed Jul 21 17:07:46 2021)\n",
      "750/1000 time points saved (Wed Jul 21 17:08:06 2021)\n",
      "760/1000 time points saved (Wed Jul 21 17:08:26 2021)\n",
      "770/1000 time points saved (Wed Jul 21 17:08:46 2021)\n",
      "780/1000 time points saved (Wed Jul 21 17:09:07 2021)\n",
      "790/1000 time points saved (Wed Jul 21 17:09:27 2021)\n",
      "800/1000 time points saved (Wed Jul 21 17:09:48 2021)\n",
      "810/1000 time points saved (Wed Jul 21 17:10:09 2021)\n",
      "820/1000 time points saved (Wed Jul 21 17:10:29 2021)\n",
      "830/1000 time points saved (Wed Jul 21 17:10:49 2021)\n",
      "840/1000 time points saved (Wed Jul 21 17:11:08 2021)\n",
      "850/1000 time points saved (Wed Jul 21 17:11:27 2021)\n",
      "860/1000 time points saved (Wed Jul 21 17:11:47 2021)\n",
      "870/1000 time points saved (Wed Jul 21 17:12:06 2021)\n",
      "880/1000 time points saved (Wed Jul 21 17:12:25 2021)\n",
      "890/1000 time points saved (Wed Jul 21 17:12:46 2021)\n",
      "900/1000 time points saved (Wed Jul 21 17:13:06 2021)\n",
      "910/1000 time points saved (Wed Jul 21 17:13:26 2021)\n",
      "920/1000 time points saved (Wed Jul 21 17:13:45 2021)\n",
      "930/1000 time points saved (Wed Jul 21 17:14:05 2021)\n",
      "940/1000 time points saved (Wed Jul 21 17:14:25 2021)\n",
      "950/1000 time points saved (Wed Jul 21 17:14:44 2021)\n",
      "960/1000 time points saved (Wed Jul 21 17:15:04 2021)\n",
      "970/1000 time points saved (Wed Jul 21 17:15:24 2021)\n",
      "980/1000 time points saved (Wed Jul 21 17:15:44 2021)\n",
      "990/1000 time points saved (Wed Jul 21 17:16:05 2021)\n",
      "1000/1000 time points saved (Wed Jul 21 17:16:26 2021)\n",
      "Done simulating (Wed Jul 21 17:16:26 2021)\n"
     ]
    }
   ],
   "source": [
    "sim = Simulation(chignolin_net, initial_coords, sim_embeddings, length=n_timesteps,\n",
    "                 save_interval=save_interval, beta=baseline_model.beta,\n",
    "                 save_potential=True, device=device,\n",
    "                 log_interval=100, log_type='print')\n",
    "\n",
    "traj = sim.simulate()"
   ]
  },
  {
   "cell_type": "code",
   "execution_count": null,
   "metadata": {},
   "outputs": [],
   "source": [
    "np.save('/local_scratch/musil/chign/test_4/traj.npy', traj)"
   ]
  },
  {
   "cell_type": "markdown",
   "metadata": {},
   "source": [
    "# trajectory analysis"
   ]
  },
  {
   "cell_type": "code",
   "execution_count": 20,
   "metadata": {},
   "outputs": [],
   "source": [
    "chignolin_dataset = ChignolinDataset('/local_scratch/musil/datasets/chignolin/')\n",
    "baseline_model = chignolin_dataset.get_baseline_model(n_beads=10)\n",
    "\n",
    "topology = mdtraj.load(chignolin_dataset.processed_paths[1])\n",
    "_,_,_, cg_topology = chignolin_dataset.get_cg_mapping(topology.topology)"
   ]
  },
  {
   "cell_type": "code",
   "execution_count": 12,
   "metadata": {},
   "outputs": [
    {
     "data": {
      "application/vnd.jupyter.widget-view+json": {
       "model_id": "",
       "version_major": 2,
       "version_minor": 0
      },
      "text/plain": [
       "calculate covariances:   0%|          | 0/3742 [00:00<?, ?it/s]"
      ]
     },
     "metadata": {},
     "output_type": "display_data"
    },
    {
     "data": {
      "application/vnd.jupyter.widget-view+json": {
       "model_id": "",
       "version_major": 2,
       "version_minor": 0
      },
      "text/plain": [
       "getting output of TICA:   0%|          | 0/3744 [00:00<?, ?it/s]"
      ]
     },
     "metadata": {},
     "output_type": "display_data"
    }
   ],
   "source": [
    "# build tica space from the training trajectory\n",
    "features = compute_internal_coordinate_features(baseline_model, chignolin_dataset)\n",
    "dimred_features, tica = project_tica(features, lag=10)"
   ]
  },
  {
   "cell_type": "code",
   "execution_count": 16,
   "metadata": {},
   "outputs": [
    {
     "data": {
      "application/vnd.jupyter.widget-view+json": {
       "model_id": "abb19168957a4516b422176c8deecfa3",
       "version_major": 2,
       "version_minor": 0
      },
      "text/plain": [
       "Canvas(toolbar=Toolbar(toolitems=[('Home', 'Reset original view', 'home', 'home'), ('Back', 'Back to previous …"
      ]
     },
     "metadata": {},
     "output_type": "display_data"
    }
   ],
   "source": [
    "fig, axes = plot_tica(tica, dimred_features)\n",
    "plt.show()"
   ]
  },
  {
   "cell_type": "code",
   "execution_count": 17,
   "metadata": {},
   "outputs": [],
   "source": [
    "# load the simulated trajectory\n",
    "traj = np.load('/local_scratch/musil/chign/test_4/traj.npy')"
   ]
  },
  {
   "cell_type": "code",
   "execution_count": 18,
   "metadata": {},
   "outputs": [],
   "source": [
    "# project the trajectory on the training trajectory's tica space\n",
    "features = compute_internal_coordinate_features(baseline_model, traj)\n",
    "dimred_features, _ = project_tica(features, lag=10, tica=tica)"
   ]
  },
  {
   "cell_type": "code",
   "execution_count": 21,
   "metadata": {},
   "outputs": [
    {
     "data": {
      "application/vnd.jupyter.widget-view+json": {
       "model_id": "8f0d806a55d04011836679db34f912ab",
       "version_major": 2,
       "version_minor": 0
      },
      "text/plain": [
       "HBox(children=(Output(), VBox(children=(BoundedIntText(value=0, description='Trajectory index: ', max=1000), N…"
      ]
     },
     "metadata": {},
     "output_type": "display_data"
    }
   ],
   "source": [
    "# check individual trajectories\n",
    "plot_trajectories_on_pes(traj, dimred_features, cg_topology, start_index=0)"
   ]
  },
  {
   "cell_type": "code",
   "execution_count": 22,
   "metadata": {},
   "outputs": [
    {
     "data": {
      "application/vnd.jupyter.widget-view+json": {
       "model_id": "",
       "version_major": 2,
       "version_minor": 0
      },
      "text/plain": [
       "initialize kmeans++ centers:   0%|          | 0/3 [00:00<?, ?it/s]"
      ]
     },
     "metadata": {},
     "output_type": "display_data"
    },
    {
     "data": {
      "application/vnd.jupyter.widget-view+json": {
       "model_id": "",
       "version_major": 2,
       "version_minor": 0
      },
      "text/plain": [
       "kmeans iterations:   0%|          | 0/50 [00:00<?, ?it/s]"
      ]
     },
     "metadata": {},
     "output_type": "display_data"
    }
   ],
   "source": [
    "cluster = pyemma.coordinates.cluster_kmeans(tica, k=3, max_iter=50, stride=5)"
   ]
  },
  {
   "cell_type": "code",
   "execution_count": 24,
   "metadata": {},
   "outputs": [
    {
     "data": {
      "application/vnd.jupyter.widget-view+json": {
       "model_id": "01d9bb4664fa4229bfc4daa25e1387c6",
       "version_major": 2,
       "version_minor": 0
      },
      "text/plain": [
       "Canvas(toolbar=Toolbar(toolitems=[('Home', 'Reset original view', 'home', 'home'), ('Back', 'Back to previous …"
      ]
     },
     "metadata": {},
     "output_type": "display_data"
    },
    {
     "data": {
      "text/plain": [
       "<matplotlib.collections.PathCollection at 0x7f241c2ae790>"
      ]
     },
     "execution_count": 24,
     "metadata": {},
     "output_type": "execute_result"
    }
   ],
   "source": [
    "fig, ax, _ = pyemma.plots.plot_free_energy(*np.concatenate(dimred_features)[:, :2].T, legacy=False)\n",
    "ax.scatter(*cluster.clustercenters.T, s=15, c='C1')"
   ]
  },
  {
   "cell_type": "code",
   "execution_count": 25,
   "metadata": {},
   "outputs": [],
   "source": [
    "cl_ids = cluster.assign(dimred_features)"
   ]
  },
  {
   "cell_type": "code",
   "execution_count": 26,
   "metadata": {},
   "outputs": [
    {
     "name": "stdout",
     "output_type": "stream",
     "text": [
      "[0, 7, 10, 11, 19, 22, 26, 30, 32, 33, 39, 49, 51, 52, 53, 64, 65, 67, 73, 75, 79, 80, 86, 87, 93, 94, 95, 97, 98, 99, 103, 106, 109, 115, 125, 128, 129, 132, 136, 140, 143, 150, 152, 161, 163, 164, 167, 171, 173, 176, 178, 184, 186, 187, 189, 190, 197, 203, 209, 212, 214, 216, 222, 225, 227, 243, 247, 248, 249, 253, 254, 256, 261, 262, 265, 269, 273, 277, 279, 284, 285, 288, 290, 292, 296, 297, 304, 306, 307, 310, 317, 321, 335, 340, 341, 342, 344, 345, 348, 352, 353, 355, 356, 358, 369, 371, 373, 376, 385, 390, 394, 395, 409, 413, 414, 417, 418, 420, 424, 427, 431, 432, 436, 437, 446, 448, 452, 453, 456, 457, 462, 463, 466, 468, 469, 472, 473, 483, 485, 486, 488, 493, 494, 504, 509, 510, 514, 516, 520, 523, 528, 532, 533, 541, 542, 544, 546, 548, 550, 551, 558, 560, 562, 564, 565, 575, 578, 586, 597, 603, 604, 605, 619, 620, 623, 624, 626, 630, 632, 651, 652, 655, 657, 658, 665, 668, 670, 672, 678, 681, 696, 697, 698, 700, 710, 713, 716, 717, 720, 721, 723, 727, 732, 733, 737, 739, 750, 760, 768, 776, 778, 783, 784, 785, 789, 790, 791, 792, 796, 807, 810, 817, 818, 826, 827, 829, 831, 833, 840, 846, 858, 861, 864, 868, 869, 872, 876, 880, 886, 890, 893, 895, 898, 901, 906, 912, 913, 916, 918, 920, 921, 925, 928, 929, 930, 937, 944, 952, 961, 962, 963, 972, 973, 977, 978, 979, 982, 983, 993, 997, 999]\n"
     ]
    }
   ],
   "source": [
    "has_transitions = []\n",
    "for i_traj,assignments in enumerate(cl_ids):\n",
    "    cc = np.bincount(assignments)\n",
    "    if np.sum(cc != 0) > 1:\n",
    "        has_transitions.append(i_traj)\n",
    "print(has_transitions)"
   ]
  },
  {
   "cell_type": "code",
   "execution_count": 30,
   "metadata": {},
   "outputs": [],
   "source": []
  },
  {
   "cell_type": "code",
   "execution_count": null,
   "metadata": {},
   "outputs": [],
   "source": []
  }
 ],
 "metadata": {
  "kernelspec": {
   "display_name": "cg39",
   "language": "python",
   "name": "cg39"
  },
  "language_info": {
   "codemirror_mode": {
    "name": "ipython",
    "version": 3
   },
   "file_extension": ".py",
   "mimetype": "text/x-python",
   "name": "python",
   "nbconvert_exporter": "python",
   "pygments_lexer": "ipython3",
   "version": "3.9.4"
  },
  "toc": {
   "base_numbering": 1,
   "nav_menu": {},
   "number_sections": true,
   "sideBar": true,
   "skip_h1_title": false,
   "title_cell": "Table of Contents",
   "title_sidebar": "Contents",
   "toc_cell": false,
   "toc_position": {},
   "toc_section_display": true,
   "toc_window_display": true
  }
 },
 "nbformat": 4,
 "nbformat_minor": 2
}
